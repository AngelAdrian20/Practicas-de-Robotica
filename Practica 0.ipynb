
0	"## Materia: Robotica\n"
1	"## Grupo: 1\n"
2	"## Alumno: Rodriguez Torres Angel Adrian \n"
3	"## Profesor: M.I. Erik Peña Gonzáles Villela\n"
4	"## Practica 0\n"
5	"\n"
6	"# Práctica 0 Nodos y Tópicos\n"
7	"\n"
8	"## Objetivo\n"
9	"Que los alumnos comprendan los conceptos básicos relacionados con los Nodos y los Tópicos, mediante la creación un de paquete con políticas en Python.\n"
10	"\n"
11	"## Metas\n"
12	"\n"
13	"- La creación de espacio de trabajo de ROS 2.\n"
14	"- Creación de un paquete con políticas de Python.\n"
15	"- Comprender los elementos que contiene el espacio de trabajo al montar un paquete en Python.\n"
16	"- La creación de un paquete que contenga un Nodo publicador, un Nodo Subcriptor y un Nodo Publicador Subcriptor.\n"
17	"- Programar un Nodo publicador y un Nodo Publicador subcriptor-publicador que reciba una velocidad en rpm y la convierta en $\\frac{rad}{s}$."
1	
cell_type	"markdown"
id	"bf4a95a6-8a23-4bf9-be29-89d911b20e9e"
metadata	
jp-MarkdownHeadingCollapsed	true
source	
0	"## Previo\n"
1	"## Nodo (Node)\n"
2	"Imagina que estás construyendo un robot. Este robot tiene muchas tareas que hacer al mismo tiempo: leer sensores, mover motores, procesar imágenes, etc.\n"
3	"\n"
4	"Un Nodo es un programa encargado de una sola de esas tareas. Son como los especialistas en una fábrica:\n"
5	"\n"
6	"    Un nodo se encarga exclusivamente de leer los datos de la cámara.\n"
7	"\n"
8	"    Otro nodo se encarga exclusivamente de controlar los motores de las ruedas.\n"
9	"\n"
10	"    Un tercer nodo se encarga de calcular la ruta para evitar obstáculos.\n"
11	"\n"
12	"Cada nodo es un programa independiente. Esta división de tareas hace que el sistema sea modular, fácil de depurar y reutilizable. Si el control de motores falla, solo necesitas revisar ese nodo en particular.\n"
13	"\n"
14	"## Tópico (Topic)\n"
15	"\n"
16	"Los nodos necesitan hablar entre sí. Por ejemplo, el nodo que calcula la ruta necesita saber qué ve la cámara.\n"
17	"\n"
18	"Un Tópico es un canal de comunicación con nombre, como una estación de radio. Los nodos pueden enviar (publicar) o recibir (suscribir) mensajes a través de estos canales.\n"
19	"\n"
20	"    Un nodo publica un mensaje en un tópico. (Ej: El nodo de la cámara publica la imagen en el tópico /video_stream).\n"
21	"\n"
22	'    Otro nodo se suscribe a ese tópico para recibir el mensaje. (Ej: El nodo de cálculo de ruta se suscribe a /video_stream para "ver" la imagen).\n'
23	"    \n"
24	'Esta comunicación es de "uno a muchos". Un nodo puede publicar en un tópico y muchos otros nodos pueden suscribirse para recibir la misma información. El publicador no sabe (ni le importa) quién está escuchando, simplemente envía la información al canal.\n'
25	"\n"
26	"## ¿Qué es un Árbol de Directorios?\n"
27	"\n"
28	"Imagina que es el índice de un libro, pero para tus archivos. Muestra qué carpetas están dentro de otras y qué archivos contiene cada una. Se usan líneas y sangrías para mostrar la estructura anidada.\n"
29	"\n"
30	"### ¿Cómo se documenta la creación de paquetes? (Árbol)\n"
31	"\n"
32	"La estructura de un paquete se documenta con un **árbol de directorios**. Es un esquema de texto que muestra la organización jerárquica de las carpetas y archivos del proyecto. Sirve para entender su estructura de un solo vistazo.\n"
33	"\n"
34	"**Ejemplo de un paquete básico de Python en ROS 2:**\n"
35	"\n"
36	"nombre_del_paquete/\n"
37	"├── package.xml\n"
38	"├── setup.py\n"
39	"└── nombre_del_paquete/\n"
40	"├── init.py\n"
41	"└── nombre_del_nodo.py\n"
42	"\n"
43	"Este árbol muestra los archivos de configuración (`package.xml`, `setup.py`) en la raíz y el código fuente de los nodos en una subcarpeta interna. 🌳\n"
44	"\n"
45	"- Los tres tipos de *interfaces* que maneja ROS 2.\n"
46	"1. Mensajes (.msg)\n"
47	"\n"
48	"Son para comunicación unidireccional. Un nodo publica (envía) datos a un tópico y no espera respuesta. Es como una transmisión de radio: el locutor habla y cualquiera con un radio sintonizado puede escuchar.\n"
49	"\n"
50	"    Tipo: Publicar / Suscribir (Uno a muchos).\n"
51	"\n"
52	"    Ideal para: Flujos continuos de datos, como las lecturas de un sensor, la posición de las articulaciones de un robot o el video de una cámara.\n"
53	"    \n"
54	"2. Servicios (.srv)\n"
55	"\n"
56	'Son para comunicación bidireccional de tipo pregunta-respuesta. Un nodo "cliente" solicita algo y se detiene a esperar hasta que un nodo "servidor" le entrega una respuesta. Es una transacción rápida y directa.\n'
57	"\n"
58	"    Tipo: Cliente / Servidor (Uno a uno).\n"
59	"\n"
60	'    Ideal para: Tareas rápidas como "activa la cámara", "¿cuál es la distancia al obstáculo?", o pedir un cálculo matemático. Es como pedir un café: haces el pedido (pregunta) y esperas a que te lo entreguen (respuesta).\n'
61	"\n"
62	"3. Acciones (.action)\n"
63	"\n"
64	'Son para tareas de larga duración que necesitan dar retroalimentación y pueden ser canceladas. Un cliente envía un "objetivo" a un servidor, y el servidor va informando sobre el progreso hasta que completa la tarea y entrega un resultado.\n'
65	"\n"
66	"    Tipo: Cliente / Servidor (con retroalimentación).\n"
67	"\n"
68	'    Ideal para: Procesos que toman tiempo, como "navega hasta el punto B", "mueve el brazo robótico a esta posición" o "gira 360 grados". Es como pedir una pizza a domicilio: haces el pedido (objetivo), la app te avisa cuando está en el horno y en camino (retroalimentación), y finalmente la recibes (resultado)\n'
2	
cell_type	"markdown"
id	"79b13452-2b6f-4b27-972d-244389f02dfa"
metadata	{}
source	
0	"## Desarrollo de la práctica \n"
1	"\n"
2	"El desarrollo de la práctica se divide en dos partes:\n"
3	"\n"
4	"1. La primera parte de realizará en clase, se generará el espacio de trabajo con el paquete que permitirá generar los Nodos y Tópicos solicitados.\n"
5	"2. El alumno modificará los programas para que los Nodos y Tópicos simulen el control de velocidad de un motor.\n"
6	"\n"
3	
cell_type	"markdown"
id	"409a4417-10c4-4b55-917e-992f56889d42"
metadata	{}
source	
0	"## Conclusiones\n"
1	"\n"
2	"En esta sección deberan escribir las conclusiones de la práctica con base en el objetivo planteado y las metas que se deban cumplir para su realización.\n"
3	"\n"
4	"## Bibliografía \n"
5	"[1] Open Robotics. (2022). Understanding ROS 2 nodes. ROS 2 Documentation: Humble. Disponible en: https://docs.ros.org/en/humble/Tutorials/Beginner-CLI-Tools/Understanding-ROS2-Nodes/Understanding-ROS2-Nodes.html\n"
6	"\n"
7	"[2] Open Robotics. (2022). Understanding ROS 2 topics. ROS 2 Documentation: Humble. Disponible en: https://docs.ros.org/en/humble/Tutorials/Beginner-CLI-Tools/Understanding-ROS2-Topics/Understanding-ROS2-Topics.html\n"
8	"\n"
9	"[3] Open Robotics. (2022). Understanding ROS 2 services. ROS 2 Documentation: Humble. Disponible en: https://docs.ros.org/en/humble/Tutorials/Beginner-CLI-Tools/Understanding-ROS2-Services/Understanding-ROS2-Services.html\n"
10	"\n"
11	"[4] Open Robotics. (2022). Understanding ROS 2 actions. ROS 2 Documentation: Humble. Disponible en: https://docs.ros.org/en/humble/Tutorials/Beginner-CLI-Tools/Understanding-ROS2-Actions/Understanding-ROS2-Actions.html\n"
12	"\n"
13	"[5] Open Robotics. (2022). Creating a package. ROS 2 Documentation: Humble. Disponible en: https://docs.ros.org/en/humble/Tutorials/Beginner-Client-Libraries/Creating-A-Package/Creating-A-Package.html\n"
4	
cell_type	"code"
execution_count	null
id	"6f65c978-f75a-4237-8110-53dee10eee2f"
metadata	{}
outputs	[]
source	[]
5	
cell_type	"code"
execution_count	null
id	"ddb09fe7-ba55-4bd4-aea0-9c523aad128a"
metadata	{}
outputs	[]
source	[]
6	
cell_type	"code"
execution_count	null
id	"cecbf670-b0e7-4dea-b46a-7002ba2f6712"
metadata	{}
outputs	[]
source	[]
7	
cell_type	"code"
execution_count	null
id	"71af1e40-f918-49a3-bdbc-69975fce0ec2"
metadata	{}
outputs	[]
source	[]
8	
cell_type	"code"
execution_count	null
id	"bf463b2a-f747-4dec-95f2-e79c4813fb1d"
metadata	{}
outputs	[]
source	[]
9	
cell_type	"code"
execution_count	null
id	"7f32a468-1547-456e-997a-6bc4b75078ab"
metadata	{}
outputs	[]
source	[]
10	
cell_type	"code"
execution_count	null
id	"4adde51d-af2e-4dbf-af26-d745f436c002"
metadata	{}
outputs	[]
source	[]
11	
cell_type	"code"
execution_count	null
id	"fe714488-b73f-49da-8558-e9c487415aa4"
metadata	{}
outputs	[]
source	[]
12	
cell_type	"code"
execution_count	null
id	"a6fbcec1-1114-4f00-ab71-f4d2170ccc8d"
metadata	{}
outputs	[]
source	[]
metadata	
kernelspec	
display_name	"Python 3 (ipykernel)"
language	"python"
name	"python3"
language_info	
codemirror_mode	
name	"ipython"
version	3
file_extension	".py"
mimetype	"text/x-python"
name	"python"
nbconvert_exporter	"python"
pygments_lexer	"ipython3"
version	"3.10.12"
nbformat	4
nbformat_minor	5
