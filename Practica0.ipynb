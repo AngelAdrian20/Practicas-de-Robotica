{
 "cells": [
  {
   "cell_type": "markdown",
   "metadata": {},
   "source": [
    "## Materia: Robotica\n",
    "## Grupo: 1\n",
    "## Alumno: Rodriguez Torres Angel Adrian \n",
    "## Profesor: M.I. Erik Peña Gonzáles Villela\n",
    "## Practica 0\n",
    "\n",
    "# Práctica 0 Nodos y Tópicos\n",
    "\n",
    "## Objetivo\n",
    "Que los alumnos comprendan los conceptos básicos relacionados con los Nodos y los Tópicos, mediante la creación un de paquete con políticas en Python.\n",
    "\n",
    "## Metas\n",
    "\n",
    "- La creación de espacio de trabajo de ROS 2.\n",
    "- Creación de un paquete con políticas de Python.\n",
    "- Comprender los elementos que contiene el espacio de trabajo al montar un paquete en Python.\n",
    "- La creación de un paquete que contenga un Nodo publicador, un Nodo Subcriptor y un Nodo Publicador Subcriptor.\n",
    "- Programar un Nodo publicador y un Nodo Publicador subcriptor-publicador que reciba una velocidad en rpm y la convierta en $\\frac{rad}{s}$."
   ]
  },
  {
   "cell_type": "markdown",
   "id": "bf4a95a6-8a23-4bf9-be29-89d911b20e9e",
   "metadata": {
    "jp-MarkdownHeadingCollapsed": true
   },
   "source": [
    "## Previo\n",
    "## Nodo (Node)\n",
    "Imagina que estás construyendo un robot. Este robot tiene muchas tareas que hacer al mismo tiempo: leer sensores, mover motores, procesar imágenes, etc.\n",
    "\n",
    "Un Nodo es un programa encargado de una sola de esas tareas. Son como los especialistas en una fábrica:\n",
    "\n",
    "    Un nodo se encarga exclusivamente de leer los datos de la cámara.\n",
    "\n",
    "    Otro nodo se encarga exclusivamente de controlar los motores de las ruedas.\n",
    "\n",
    "    Un tercer nodo se encarga de calcular la ruta para evitar obstáculos.\n",
    "\n",
    "Cada nodo es un programa independiente. Esta división de tareas hace que el sistema sea modular, fácil de depurar y reutilizable. Si el control de motores falla, solo necesitas revisar ese nodo en particular.\n",
    "\n",
    "## Tópico (Topic)\n",
    "\n",
    "Los nodos necesitan hablar entre sí. Por ejemplo, el nodo que calcula la ruta necesita saber qué ve la cámara.\n",
    "\n",
    "Un Tópico es un canal de comunicación con nombre, como una estación de radio. Los nodos pueden enviar (publicar) o recibir (suscribir) mensajes a través de estos canales.\n",
    "\n",
    "    Un nodo publica un mensaje en un tópico. (Ej: El nodo de la cámara publica la imagen en el tópico /video_stream).\n",
    "\n",
    "    Otro nodo se suscribe a ese tópico para recibir el mensaje. (Ej: El nodo de cálculo de ruta se suscribe a /video_stream para \"ver\" la imagen).\n",
    "    \n",
    "Esta comunicación es de \"uno a muchos\". Un nodo puede publicar en un tópico y muchos otros nodos pueden suscribirse para recibir la misma información. El publicador no sabe (ni le importa) quién está escuchando, simplemente envía la información al canal.\n",
    "\n",
    "## ¿Qué es un Árbol de Directorios?\n",
    "\n",
    "Imagina que es el índice de un libro, pero para tus archivos. Muestra qué carpetas están dentro de otras y qué archivos contiene cada una. Se usan líneas y sangrías para mostrar la estructura anidada.\n",
    "\n",
    "### ¿Cómo se documenta la creación de paquetes? (Árbol)\n",
    "\n",
    "La estructura de un paquete se documenta con un **árbol de directorios**. Es un esquema de texto que muestra la organización jerárquica de las carpetas y archivos del proyecto. Sirve para entender su estructura de un solo vistazo.\n",
    "\n",
    "**Ejemplo de un paquete básico de Python en ROS 2:**\n",
    "```\n",
    "nombre_del_paquete/\n",
    "├── package.xml\n",
    "├── setup.py\n",
    "└── nombre_del_paquete/\n",
    "    ├── __init__.py\n",
    "    └── nombre_del_nodo.py\n",
    "```\n",
    "\n",
    "Este árbol muestra los archivos de configuración (`package.xml`, `setup.py`) en la raíz y el código fuente de los nodos en una subcarpeta interna. 🌳\n",
    "\n",
    "## Los tres tipos de interfaces que maneja ROS 2.\n",
    "### 1. Mensajes (.msg)\n",
    "\n",
    "Son para comunicación unidireccional. Un nodo publica (envía) datos a un tópico y no espera respuesta. Es como una transmisión de radio: el locutor habla y cualquiera con un radio sintonizado puede escuchar.\n",
    "\n",
    "- **Tipo**: Publicar / Suscribir (Uno a muchos).\n",
    "- **Ideal para**: Flujos continuos de datos, como las lecturas de un sensor, la posición de las articulaciones de un robot o el video de una cámara.\n",
    "    \n",
    "### 2. Servicios (.srv)\n",
    "\n",
    "Son para comunicación bidireccional de tipo pregunta-respuesta. Un nodo \"cliente\" solicita algo y se detiene a esperar hasta que un nodo \"servidor\" le entrega una respuesta. Es una transacción rápida y directa.\n",
    "\n",
    "- **Tipo**: Cliente / Servidor (Uno a uno).\n",
    "- **Ideal para**: Tareas rápidas como \"activa la cámara\", \"¿cuál es la distancia al obstáculo?\", o pedir un cálculo matemático. Es como pedir un café: haces el pedido (pregunta) y esperas a que te lo entreguen (respuesta).\n",
    "\n",
    "### 3. Acciones (.action)\n",
    "\n",
    "Son para tareas de larga duración que necesitan dar retroalimentación y pueden ser canceladas. Un cliente envía un \"objetivo\" a un servidor, y el servidor va informando sobre el progreso hasta que completa la tarea y entrega un resultado.\n",
    "\n",
    "- **Tipo**: Cliente / Servidor (con retroalimentación).\n",
    "- **Ideal para**: Procesos que toman tiempo, como \"navega hasta el punto B\", \"mueve el brazo robótico a esta posición\" o \"gira 360 grados\". Es como pedir una pizza a domicilio: haces el pedido (objetivo), la app te avisa cuando está en el horno y en camino (retroalimentación), y finalmente la recibes (resultado)."
   ]
  },
  {
   "cell_type": "markdown",
   "id": "79b13452-2b6f-4b27-972d-244389f02dfa",
   "metadata": {},
   "source": [
    "## Desarrollo de la práctica \n",
    "\n",
    "El desarrollo de la práctica se divide en dos partes:\n",
    "\n",
    "1. La primera parte de realizará en clase, se generará el espacio de trabajo con el paquete que permitirá generar los Nodos y Tópicos solicitados.\n",
    "2. El alumno modificará los programas para que los Nodos y Tópicos simulen el control de velocidad de un motor.\n"
   ]
  },
  {
   "cell_type": "markdown",
   "id": "409a4417-10c4-4b55-917e-992f56889d42",
   "metadata": {},
   "source": [
    "## Conclusiones\n",
    "\n",
    "En esta sección deberan escribir las conclusiones de la práctica con base en el objetivo planteado y las metas que se deban cumplir para su realización.\n",
    "\n",
    "## Bibliografía \n",
    "[1] Open Robotics. (2022). Understanding ROS 2 nodes. ROS 2 Documentation: Humble. Disponible en: https://docs.ros.org/en/humble/Tutorials/Beginner-CLI-Tools/Understanding-ROS2-Nodes/Understanding-ROS2-Nodes.html\n",
    "\n",
    "[2] Open Robotics. (2022). Understanding ROS 2 topics. ROS 2 Documentation: Humble. Disponible en: https://docs.ros.org/en/humble/Tutorials/Beginner-CLI-Tools/Understanding-ROS2-Topics/Understanding-ROS2-Topics.html\n",
    "\n",
    "[3] Open Robotics. (2022). Understanding ROS 2 services. ROS 2 Documentation: Humble. Disponible en: https://docs.ros.org/en/humble/Tutorials/Beginner-CLI-Tools/Understanding-ROS2-Services/Understanding-ROS2-Services.html\n",
    "\n",
    "[4] Open Robotics. (2022). Understanding ROS 2 actions. ROS 2 Documentation: Humble. Disponible en: https://docs.ros.org/en/humble/Tutorials/Beginner-CLI-Tools/Understanding-ROS2-Actions/Understanding-ROS2-Actions.html\n",
    "\n",
    "[5] Open Robotics. (2022). Creating a package. ROS 2 Documentation: Humble. Disponible en: https://docs.ros.org/en/humble/Tutorials/Beginner-Client-Libraries/Creating-A-Package/Creating-A-Package.html"
   ]
  },
  {
   "cell_type": "code",
   "execution_count": null,
   "id": "6f65c978-f75a-4237-8110-53dee10eee2f",
   "metadata": {},
   "outputs": [],
   "source": []
  }
 ],
 "metadata": {
  "kernelspec": {
   "display_name": "Python 3 (ipykernel)",
   "language": "python",
   "name": "python3"
  },
  "language_info": {
   "codemirror_mode": {
    "name": "ipython",
    "version": 3
   },
   "file_extension": ".py",
   "mimetype": "text/x-python",
   "name": "python",
   "nbconvert_exporter": "python",
   "pygments_lexer": "ipython3",
   "version": "3.10.12"
  }
 },
 "nbformat": 4,
 "nbformat_minor": 5
}
