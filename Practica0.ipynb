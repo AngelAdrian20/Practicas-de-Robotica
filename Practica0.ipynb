{
 "cells": [
  {
   "cell_type": "markdown",
   "metadata": {},
   "source": [
    "## Materia: Robotica\n",
    "## Grupo: 1\n",
    "## Alumno: Rodriguez Torres Angel Adrian \n",
    "## Profesor: M.I. Erik Peña Gonzáles Villela\n",
    "## Practica 0\n",
    "\n",
    "# Práctica 0 Nodos y Tópicos\n",
    "\n",
    "## Objetivo\n",
    "Que los alumnos comprendan los conceptos básicos relacionados con los Nodos y los Tópicos, mediante la creación un de paquete con políticas en Python.\n",
    "\n",
    "## Metas\n",
    "\n",
    "- La creación de espacio de trabajo de ROS 2.\n",
    "- Creación de un paquete con políticas de Python.\n",
    "- Comprender los elementos que contiene el espacio de trabajo al montar un paquete en Python.\n",
    "- La creación de un paquete que contenga un Nodo publicador, un Nodo Subcriptor y un Nodo Publicador Subcriptor.\n",
    "- Programar un Nodo publicador y un Nodo Publicador subcriptor-publicador que reciba una velocidad en rpm y la convierta en $\\frac{rad}{s}$."
   ]
  },
  {
   "cell_type": "markdown",
   "id": "bf4a95a6-8a23-4bf9-be29-89d911b20e9e",
   "metadata": {
    "jp-MarkdownHeadingCollapsed": true
   },
   "source": [
    "## Previo\n",
    "## Nodo (Node)\n",
    "Imagina que estás construyendo un robot. Este robot tiene muchas tareas que hacer al mismo tiempo: leer sensores, mover motores, procesar imágenes, etc.\n",
    "\n",
    "Un Nodo es un programa encargado de una sola de esas tareas. Son como los especialistas en una fábrica:\n",
    "\n",
    "    Un nodo se encarga exclusivamente de leer los datos de la cámara.\n",
    "\n",
    "    Otro nodo se encarga exclusivamente de controlar los motores de las ruedas.\n",
    "\n",
    "    Un tercer nodo se encarga de calcular la ruta para evitar obstáculos.\n",
